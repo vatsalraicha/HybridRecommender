{
  "cells": [
    {
      "cell_type": "markdown",
      "id": "5e3be019",
      "metadata": {
        "id": "5e3be019"
      },
      "source": [
        "# Hybrid Recommendation using LightFM"
      ]
    },
    {
      "cell_type": "markdown",
      "id": "fc239912",
      "metadata": {
        "id": "fc239912"
      },
      "source": [
        "# Importing the required libraries"
      ]
    },
    {
      "cell_type": "code",
      "execution_count": 1,
      "id": "4132e2a8",
      "metadata": {
        "id": "4132e2a8"
      },
      "outputs": [],
      "source": [
        "import pandas as pd # pandas for data manipulation\n",
        "import numpy as np # numpy for sure\n",
        "from scipy.sparse import coo_matrix # for constructing sparse matrix\n",
        "# lightfm\n",
        "from lightfm import LightFM # model\n",
        "from lightfm.evaluation import auc_score\n",
        "\n",
        "# timing\n",
        "import time"
      ]
    },
    {
      "cell_type": "markdown",
      "id": "ff34f6e9",
      "metadata": {
        "id": "ff34f6e9"
      },
      "source": [
        "# Importing the data from excel"
      ]
    },
    {
      "cell_type": "code",
      "execution_count": 2,
      "id": "68d5dab7",
      "metadata": {
        "id": "68d5dab7"
      },
      "outputs": [],
      "source": [
        "# import the data\n",
        "order=pd.read_excel('../data/Rec_sys_data.xlsx','order')\n",
        "customer=pd.read_excel('../data/Rec_sys_data.xlsx','customer')\n",
        "product=pd.read_excel('../data/Rec_sys_data.xlsx','product')"
      ]
    },
    {
      "cell_type": "markdown",
      "id": "eb338027",
      "metadata": {
        "id": "eb338027"
      },
      "source": [
        "# Merging the datasets"
      ]
    },
    {
      "cell_type": "code",
      "execution_count": 3,
      "id": "1939b9f6",
      "metadata": {
        "id": "1939b9f6"
      },
      "outputs": [],
      "source": [
        "# merge the data\n",
        "full_table=pd.merge(order,customer,left_on=['CustomerID'], right_on=['CustomerID'], how='left')\n",
        "full_table=pd.merge(full_table,product,left_on=['StockCode'], right_on=['StockCode'], how='left')"
      ]
    },
    {
      "cell_type": "code",
      "execution_count": 4,
      "id": "lOd5wsgnDgDw",
      "metadata": {
        "colab": {
          "base_uri": "https://localhost:8080/"
        },
        "id": "lOd5wsgnDgDw",
        "outputId": "0b62f89b-6a12-49a0-8407-91add5eb21d3"
      },
      "outputs": [
        {
          "data": {
            "text/plain": [
              "('Order Shape',\n",
              " (272404, 9),\n",
              " 'Customer Shape',\n",
              " (4372, 6),\n",
              " 'Product Shape',\n",
              " (29912, 6),\n",
              " 'Full Table Shape',\n",
              " (272404, 19))"
            ]
          },
          "execution_count": 4,
          "metadata": {},
          "output_type": "execute_result"
        }
      ],
      "source": [
        "\"Order Shape\", order.shape, \"Customer Shape\", customer.shape, \"Product Shape\", product.shape, \"Full Table Shape\", full_table.shape"
      ]
    },
    {
      "cell_type": "code",
      "execution_count": 5,
      "id": "843bae16",
      "metadata": {
        "colab": {
          "base_uri": "https://localhost:8080/",
          "height": 206
        },
        "id": "843bae16",
        "outputId": "68ba185f-4179-4268-c8a6-86b8fb1658b4"
      },
      "outputs": [
        {
          "data": {
            "text/html": [
              "<div>\n",
              "<style scoped>\n",
              "    .dataframe tbody tr th:only-of-type {\n",
              "        vertical-align: middle;\n",
              "    }\n",
              "\n",
              "    .dataframe tbody tr th {\n",
              "        vertical-align: top;\n",
              "    }\n",
              "\n",
              "    .dataframe thead th {\n",
              "        text-align: right;\n",
              "    }\n",
              "</style>\n",
              "<table border=\"1\" class=\"dataframe\">\n",
              "  <thead>\n",
              "    <tr style=\"text-align: right;\">\n",
              "      <th></th>\n",
              "      <th>InvoiceNo</th>\n",
              "      <th>StockCode</th>\n",
              "      <th>Quantity</th>\n",
              "      <th>InvoiceDate</th>\n",
              "      <th>DeliveryDate</th>\n",
              "      <th>Discount%</th>\n",
              "      <th>ShipMode</th>\n",
              "      <th>ShippingCost</th>\n",
              "      <th>CustomerID</th>\n",
              "    </tr>\n",
              "  </thead>\n",
              "  <tbody>\n",
              "    <tr>\n",
              "      <th>0</th>\n",
              "      <td>536365</td>\n",
              "      <td>84029E</td>\n",
              "      <td>6</td>\n",
              "      <td>2010-12-01 08:26:00</td>\n",
              "      <td>2010-12-02 08:26:00</td>\n",
              "      <td>0.20</td>\n",
              "      <td>ExpressAir</td>\n",
              "      <td>30.12</td>\n",
              "      <td>17850</td>\n",
              "    </tr>\n",
              "    <tr>\n",
              "      <th>1</th>\n",
              "      <td>536365</td>\n",
              "      <td>71053</td>\n",
              "      <td>6</td>\n",
              "      <td>2010-12-01 08:26:00</td>\n",
              "      <td>2010-12-02 08:26:00</td>\n",
              "      <td>0.21</td>\n",
              "      <td>ExpressAir</td>\n",
              "      <td>30.12</td>\n",
              "      <td>17850</td>\n",
              "    </tr>\n",
              "    <tr>\n",
              "      <th>2</th>\n",
              "      <td>536365</td>\n",
              "      <td>21730</td>\n",
              "      <td>6</td>\n",
              "      <td>2010-12-01 08:26:00</td>\n",
              "      <td>2010-12-03 08:26:00</td>\n",
              "      <td>0.56</td>\n",
              "      <td>Regular Air</td>\n",
              "      <td>15.22</td>\n",
              "      <td>17850</td>\n",
              "    </tr>\n",
              "    <tr>\n",
              "      <th>3</th>\n",
              "      <td>536365</td>\n",
              "      <td>84406B</td>\n",
              "      <td>8</td>\n",
              "      <td>2010-12-01 08:26:00</td>\n",
              "      <td>2010-12-03 08:26:00</td>\n",
              "      <td>0.30</td>\n",
              "      <td>Regular Air</td>\n",
              "      <td>15.22</td>\n",
              "      <td>17850</td>\n",
              "    </tr>\n",
              "    <tr>\n",
              "      <th>4</th>\n",
              "      <td>536365</td>\n",
              "      <td>22752</td>\n",
              "      <td>2</td>\n",
              "      <td>2010-12-01 08:26:00</td>\n",
              "      <td>2010-12-04 08:26:00</td>\n",
              "      <td>0.57</td>\n",
              "      <td>Delivery Truck</td>\n",
              "      <td>5.81</td>\n",
              "      <td>17850</td>\n",
              "    </tr>\n",
              "  </tbody>\n",
              "</table>\n",
              "</div>"
            ],
            "text/plain": [
              "   InvoiceNo StockCode  Quantity         InvoiceDate        DeliveryDate  \\\n",
              "0     536365    84029E         6 2010-12-01 08:26:00 2010-12-02 08:26:00   \n",
              "1     536365     71053         6 2010-12-01 08:26:00 2010-12-02 08:26:00   \n",
              "2     536365     21730         6 2010-12-01 08:26:00 2010-12-03 08:26:00   \n",
              "3     536365    84406B         8 2010-12-01 08:26:00 2010-12-03 08:26:00   \n",
              "4     536365     22752         2 2010-12-01 08:26:00 2010-12-04 08:26:00   \n",
              "\n",
              "   Discount%        ShipMode  ShippingCost  CustomerID  \n",
              "0       0.20      ExpressAir         30.12       17850  \n",
              "1       0.21      ExpressAir         30.12       17850  \n",
              "2       0.56     Regular Air         15.22       17850  \n",
              "3       0.30     Regular Air         15.22       17850  \n",
              "4       0.57  Delivery Truck          5.81       17850  "
            ]
          },
          "execution_count": 5,
          "metadata": {},
          "output_type": "execute_result"
        }
      ],
      "source": [
        "# check for first 5 rows for order data\n",
        "order.head()"
      ]
    },
    {
      "cell_type": "code",
      "execution_count": 6,
      "id": "b83c7ffd",
      "metadata": {
        "colab": {
          "base_uri": "https://localhost:8080/",
          "height": 206
        },
        "id": "b83c7ffd",
        "outputId": "faaed87f-326d-49ac-cb9c-4bb9b1913db9"
      },
      "outputs": [
        {
          "data": {
            "text/html": [
              "<div>\n",
              "<style scoped>\n",
              "    .dataframe tbody tr th:only-of-type {\n",
              "        vertical-align: middle;\n",
              "    }\n",
              "\n",
              "    .dataframe tbody tr th {\n",
              "        vertical-align: top;\n",
              "    }\n",
              "\n",
              "    .dataframe thead th {\n",
              "        text-align: right;\n",
              "    }\n",
              "</style>\n",
              "<table border=\"1\" class=\"dataframe\">\n",
              "  <thead>\n",
              "    <tr style=\"text-align: right;\">\n",
              "      <th></th>\n",
              "      <th>CustomerID</th>\n",
              "      <th>Gender</th>\n",
              "      <th>Age</th>\n",
              "      <th>Income</th>\n",
              "      <th>Zipcode</th>\n",
              "      <th>Customer Segment</th>\n",
              "    </tr>\n",
              "  </thead>\n",
              "  <tbody>\n",
              "    <tr>\n",
              "      <th>0</th>\n",
              "      <td>13089</td>\n",
              "      <td>male</td>\n",
              "      <td>53</td>\n",
              "      <td>High</td>\n",
              "      <td>8625</td>\n",
              "      <td>Small Business</td>\n",
              "    </tr>\n",
              "    <tr>\n",
              "      <th>1</th>\n",
              "      <td>15810</td>\n",
              "      <td>female</td>\n",
              "      <td>22</td>\n",
              "      <td>Low</td>\n",
              "      <td>87797</td>\n",
              "      <td>Small Business</td>\n",
              "    </tr>\n",
              "    <tr>\n",
              "      <th>2</th>\n",
              "      <td>15556</td>\n",
              "      <td>female</td>\n",
              "      <td>29</td>\n",
              "      <td>High</td>\n",
              "      <td>29257</td>\n",
              "      <td>Corporate</td>\n",
              "    </tr>\n",
              "    <tr>\n",
              "      <th>3</th>\n",
              "      <td>13137</td>\n",
              "      <td>male</td>\n",
              "      <td>29</td>\n",
              "      <td>Medium</td>\n",
              "      <td>97818</td>\n",
              "      <td>Middle class</td>\n",
              "    </tr>\n",
              "    <tr>\n",
              "      <th>4</th>\n",
              "      <td>16241</td>\n",
              "      <td>male</td>\n",
              "      <td>36</td>\n",
              "      <td>Low</td>\n",
              "      <td>79200</td>\n",
              "      <td>Small Business</td>\n",
              "    </tr>\n",
              "  </tbody>\n",
              "</table>\n",
              "</div>"
            ],
            "text/plain": [
              "   CustomerID  Gender  Age  Income  Zipcode Customer Segment\n",
              "0       13089    male   53    High     8625   Small Business\n",
              "1       15810  female   22     Low    87797   Small Business\n",
              "2       15556  female   29    High    29257        Corporate\n",
              "3       13137    male   29  Medium    97818     Middle class\n",
              "4       16241    male   36     Low    79200   Small Business"
            ]
          },
          "execution_count": 6,
          "metadata": {},
          "output_type": "execute_result"
        }
      ],
      "source": [
        "# check for first 5 rows for customer data\n",
        "customer.head()"
      ]
    },
    {
      "cell_type": "code",
      "execution_count": 8,
      "id": "Z3DykU9TeDM9",
      "metadata": {
        "colab": {
          "base_uri": "https://localhost:8080/"
        },
        "id": "Z3DykU9TeDM9",
        "outputId": "ef67dd36-66a2-4820-8157-66dad1639cf3"
      },
      "outputs": [
        {
          "data": {
            "text/plain": [
              "(array(['Small Business', 'Corporate', 'Middle class'], dtype=object),\n",
              " array(['High', 'Low', 'Medium'], dtype=object),\n",
              " array(['male', 'female'], dtype=object))"
            ]
          },
          "execution_count": 8,
          "metadata": {},
          "output_type": "execute_result"
        }
      ],
      "source": [
        "customer[\"Customer Segment\"].unique(), customer[\"Income\"].unique(), customer[\"Gender\"].unique()"
      ]
    },
    {
      "cell_type": "code",
      "execution_count": 9,
      "id": "1ryH8pDzeeDC",
      "metadata": {
        "id": "1ryH8pDzeeDC"
      },
      "outputs": [],
      "source": [
        "from matplotlib import pyplot as plt\n",
        "import seaborn as sns"
      ]
    },
    {
      "cell_type": "markdown",
      "id": "5f3e4600",
      "metadata": {},
      "source": [
        "## Setting some matplotlib params"
      ]
    },
    {
      "cell_type": "code",
      "execution_count": 10,
      "id": "3cfa59c8",
      "metadata": {},
      "outputs": [],
      "source": [
        "from cycler import cycler\n",
        "\n",
        "# Setting the color cycle for plotting\n",
        "plt.rcParams['axes.prop_cycle'] = cycler(color=['#10A37F', '#147960', '#024736'])\n",
        "\n",
        "# Setting the backend for inline display, suitable for Jupyter notebooks or similar environments\n",
        "plt.rcParams['backend'] = 'module://matplotlib_inline.backend_inline'\n",
        "\n",
        "# Enabling grid by default on axes\n",
        "plt.rcParams['axes.grid'] = True\n",
        "plt.rcParams['axes.grid.axis'] = 'both'\n",
        "plt.rcParams['axes.grid.which'] = 'major'\n",
        "\n",
        "# Setting axes appearance\n",
        "plt.rcParams['axes.edgecolor'] = (0.1, 0.1, 0.1)\n",
        "plt.rcParams['axes.facecolor'] = 'white'\n",
        "plt.rcParams['axes.labelcolor'] = (0.1, 0.1, 0.1)\n",
        "plt.rcParams['axes.labelsize'] = 12.0\n",
        "plt.rcParams['axes.titlecolor'] = 'auto'\n",
        "plt.rcParams['axes.titlesize'] = 16.0\n",
        "\n",
        "# Configuring the appearance of ticks\n",
        "plt.rcParams['xtick.color'] = (0.1, 0.1, 0.1)\n",
        "plt.rcParams['xtick.direction'] = 'in'\n",
        "plt.rcParams['xtick.labelsize'] = 12.0\n",
        "plt.rcParams['ytick.color'] = (0.1, 0.1, 0.1)\n",
        "plt.rcParams['ytick.direction'] = 'in'\n",
        "plt.rcParams['ytick.labelsize'] = 12.0"
      ]
    },
    {
      "cell_type": "markdown",
      "id": "d5fe6de5",
      "metadata": {},
      "source": [
        "## Plotting distributions for some features on each dataset"
      ]
    },
    {
      "cell_type": "code",
      "execution_count": 11,
      "id": "nkNZZILbeZqr",
      "metadata": {
        "colab": {
          "base_uri": "https://localhost:8080/",
          "height": 449
        },
        "id": "nkNZZILbeZqr",
        "outputId": "3d2374ab-e201-4fff-8021-72eac1d35d42"
      },
      "outputs": [
        {
          "data": {
            "image/png": "[encoded data removed]",
            "text/plain": [
              "<Figure size 1400x1200 with 6 Axes>"
            ]
          },
          "metadata": {},
          "output_type": "display_data"
        }
      ],
      "source": [
        "# Setting up the matplotlib figure\n",
        "fig, axes = plt.subplots(nrows=3, ncols=2, figsize=(14, 12))\n",
        "fig.tight_layout(pad=5.0)\n",
        "\n",
        "# Plotting histograms for Order Data\n",
        "order['Quantity'].plot(kind='hist', bins=30, ax=axes[0, 0], title='Order Quantity Distribution')\n",
        "order['Discount%'].plot(kind='hist', bins=30, ax=axes[0, 1], title='Discount% Distribution')\n",
        "\n",
        "# Plotting histograms for Customer Data\n",
        "customer['Age'].plot(kind='hist', bins=30, ax=axes[1, 0], title='Customer Age Distribution')\n",
        "\n",
        "# Plotting histograms for Product Data\n",
        "product['Unit Price'].plot(kind='hist', bins=30, ax=axes[2, 0], title='Product Unit Price Distribution')\n",
        "\n",
        "# Hiding empty subplots\n",
        "axes[1, 1].axis('off')\n",
        "axes[2, 1].axis('off')\n",
        "\n",
        "plt.show()\n"
      ]
    },
    {
      "cell_type": "markdown",
      "id": "3580e3c4",
      "metadata": {},
      "source": [
        "### Observations from the plots above\n",
        "* **Order Quantity Distribution**: The majority of orders contain a relatively small quantity of items, as evidenced by the sharp peak at the lower end of the scale. There are very few large quantity orders, which indicates that bulk purchases are rare.\n",
        "\n",
        "* **Discount% Distribution**: The distribution of discounts is fairly uniform across the range, with a slight increase in frequency as the discount percentage increases. This could suggest that larger discounts are more commonly offered or that orders with larger discounts are more frequent.\n",
        "\n",
        "* **Customer Age Distribution**: The age of customers appears to be fairly evenly distributed, with slight increases around the ages of 30 and 50. There are no particularly dominant age groups, which suggests a diverse customer base in terms of age.\n",
        "\n",
        "* **Product Unit Price Distribution**: There is a large spike in the number of products with a very low unit price, indicating that most products are priced on the lower end. The frequency drops significantly for higher-priced items, showing that expensive products are much less common."
      ]
    },
    {
      "cell_type": "code",
      "execution_count": 12,
      "id": "114b2672",
      "metadata": {
        "colab": {
          "base_uri": "https://localhost:8080/",
          "height": 310
        },
        "id": "114b2672",
        "outputId": "7c89d9cf-6d1e-43dd-ddb3-a3432df7fd77"
      },
      "outputs": [
        {
          "data": {
            "text/html": [
              "<div>\n",
              "<style scoped>\n",
              "    .dataframe tbody tr th:only-of-type {\n",
              "        vertical-align: middle;\n",
              "    }\n",
              "\n",
              "    .dataframe tbody tr th {\n",
              "        vertical-align: top;\n",
              "    }\n",
              "\n",
              "    .dataframe thead th {\n",
              "        text-align: right;\n",
              "    }\n",
              "</style>\n",
              "<table border=\"1\" class=\"dataframe\">\n",
              "  <thead>\n",
              "    <tr style=\"text-align: right;\">\n",
              "      <th></th>\n",
              "      <th>StockCode</th>\n",
              "      <th>Product Name</th>\n",
              "      <th>Description</th>\n",
              "      <th>Category</th>\n",
              "      <th>Brand</th>\n",
              "      <th>Unit Price</th>\n",
              "    </tr>\n",
              "  </thead>\n",
              "  <tbody>\n",
              "    <tr>\n",
              "      <th>0</th>\n",
              "      <td>22629</td>\n",
              "      <td>Ganma Superheroes Ordinary Life Case For Samsu...</td>\n",
              "      <td>New unique design, great gift.High quality pla...</td>\n",
              "      <td>Cell Phones|Cellphone Accessories|Cases &amp; Prot...</td>\n",
              "      <td>Ganma</td>\n",
              "      <td>13.99</td>\n",
              "    </tr>\n",
              "    <tr>\n",
              "      <th>1</th>\n",
              "      <td>21238</td>\n",
              "      <td>Eye Buy Express Prescription Glasses Mens Wome...</td>\n",
              "      <td>Rounded rectangular cat-eye reading glasses. T...</td>\n",
              "      <td>Health|Home Health Care|Daily Living Aids</td>\n",
              "      <td>Eye Buy Express</td>\n",
              "      <td>19.22</td>\n",
              "    </tr>\n",
              "    <tr>\n",
              "      <th>2</th>\n",
              "      <td>22181</td>\n",
              "      <td>MightySkins Skin Decal Wrap Compatible with Ni...</td>\n",
              "      <td>Each Nintendo 2DS kit is printed with super-hi...</td>\n",
              "      <td>Video Games|Video Game Accessories|Accessories...</td>\n",
              "      <td>Mightyskins</td>\n",
              "      <td>14.99</td>\n",
              "    </tr>\n",
              "    <tr>\n",
              "      <th>3</th>\n",
              "      <td>84879</td>\n",
              "      <td>Mediven Sheer and Soft 15-20 mmHg Thigh w/ Lac...</td>\n",
              "      <td>The sheerest compression stocking in its class...</td>\n",
              "      <td>Health|Medicine Cabinet|Braces &amp; Supports</td>\n",
              "      <td>Medi</td>\n",
              "      <td>62.38</td>\n",
              "    </tr>\n",
              "    <tr>\n",
              "      <th>4</th>\n",
              "      <td>84836</td>\n",
              "      <td>Stupell Industries Chevron Initial Wall D cor</td>\n",
              "      <td>Features: -Made in the USA. -Sawtooth hanger o...</td>\n",
              "      <td>Home Improvement|Paint|Wall Decals|All Wall De...</td>\n",
              "      <td>Stupell Industries</td>\n",
              "      <td>35.99</td>\n",
              "    </tr>\n",
              "  </tbody>\n",
              "</table>\n",
              "</div>"
            ],
            "text/plain": [
              "  StockCode                                       Product Name  \\\n",
              "0     22629  Ganma Superheroes Ordinary Life Case For Samsu...   \n",
              "1     21238  Eye Buy Express Prescription Glasses Mens Wome...   \n",
              "2     22181  MightySkins Skin Decal Wrap Compatible with Ni...   \n",
              "3     84879  Mediven Sheer and Soft 15-20 mmHg Thigh w/ Lac...   \n",
              "4     84836      Stupell Industries Chevron Initial Wall D cor   \n",
              "\n",
              "                                         Description  \\\n",
              "0  New unique design, great gift.High quality pla...   \n",
              "1  Rounded rectangular cat-eye reading glasses. T...   \n",
              "2  Each Nintendo 2DS kit is printed with super-hi...   \n",
              "3  The sheerest compression stocking in its class...   \n",
              "4  Features: -Made in the USA. -Sawtooth hanger o...   \n",
              "\n",
              "                                            Category               Brand  \\\n",
              "0  Cell Phones|Cellphone Accessories|Cases & Prot...               Ganma   \n",
              "1          Health|Home Health Care|Daily Living Aids     Eye Buy Express   \n",
              "2  Video Games|Video Game Accessories|Accessories...         Mightyskins   \n",
              "3          Health|Medicine Cabinet|Braces & Supports                Medi   \n",
              "4  Home Improvement|Paint|Wall Decals|All Wall De...  Stupell Industries   \n",
              "\n",
              "   Unit Price  \n",
              "0       13.99  \n",
              "1       19.22  \n",
              "2       14.99  \n",
              "3       62.38  \n",
              "4       35.99  "
            ]
          },
          "execution_count": 12,
          "metadata": {},
          "output_type": "execute_result"
        }
      ],
      "source": [
        "# check for first 5 rows for product data\n",
        "product.head()"
      ]
    },
    {
      "cell_type": "code",
      "execution_count": 13,
      "id": "b18ee92a",
      "metadata": {
        "id": "b18ee92a"
      },
      "outputs": [],
      "source": [
        "# Creating the list of unique users\n",
        "def unique_users(data, column):\n",
        "    return np.sort(data[column].unique())\n",
        "\n",
        "# Creating the list of unique produts\n",
        "def unique_items(data, column):\n",
        "    item_list = data[column].unique()\n",
        "    return item_list\n",
        "\n",
        "def features_to_add(customer, column1,column2,column3):\n",
        "    customer1 = customer[column1]\n",
        "    customer2 = customer[column2]\n",
        "    customer3 = customer[column3]\n",
        "    return pd.concat([customer1,customer3,customer2], ignore_index = True).unique()\n",
        "\n",
        "# Create id mappings to convert user_id, item_id, and feature_id\n",
        "def mapping(users, items, features):\n",
        "    user_to_index_mapping = {}\n",
        "    index_to_user_mapping = {}\n",
        "    for user_index, user_id in enumerate(users):\n",
        "        user_to_index_mapping[user_id] = user_index\n",
        "        index_to_user_mapping[user_index] = user_id\n",
        "\n",
        "    item_to_index_mapping = {}\n",
        "    index_to_item_mapping = {}\n",
        "    for item_index, item_id in enumerate(items):\n",
        "        item_to_index_mapping[item_id] = item_index\n",
        "        index_to_item_mapping[item_index] = item_id\n",
        "\n",
        "    feature_to_index_mapping = {}\n",
        "    index_to_feature_mapping = {}\n",
        "    for feature_index, feature_id in enumerate(features):\n",
        "        feature_to_index_mapping[feature_id] = feature_index\n",
        "        index_to_feature_mapping[feature_index] = feature_id\n",
        "\n",
        "\n",
        "    return user_to_index_mapping, index_to_user_mapping, \\\n",
        "           item_to_index_mapping, index_to_item_mapping, \\\n",
        "           feature_to_index_mapping, index_to_feature_mapping\n",
        "\n"
      ]
    },
    {
      "cell_type": "code",
      "execution_count": 15,
      "id": "7c543564",
      "metadata": {
        "id": "7c543564"
      },
      "outputs": [],
      "source": [
        "# create the user, item, feature lists\n",
        "users = unique_users(order, \"CustomerID\")\n",
        "items = unique_items(product, \"Product Name\")\n",
        "features = features_to_add(customer,'Customer Segment',\"Age\",\"Gender\")"
      ]
    },
    {
      "cell_type": "code",
      "execution_count": 16,
      "id": "fc156780",
      "metadata": {
        "colab": {
          "base_uri": "https://localhost:8080/",
          "height": 206
        },
        "id": "fc156780",
        "outputId": "83d84954-fa37-4748-e20a-ac1b9187f4c6"
      },
      "outputs": [
        {
          "data": {
            "text/html": [
              "<div>\n",
              "<style scoped>\n",
              "    .dataframe tbody tr th:only-of-type {\n",
              "        vertical-align: middle;\n",
              "    }\n",
              "\n",
              "    .dataframe tbody tr th {\n",
              "        vertical-align: top;\n",
              "    }\n",
              "\n",
              "    .dataframe thead th {\n",
              "        text-align: right;\n",
              "    }\n",
              "</style>\n",
              "<table border=\"1\" class=\"dataframe\">\n",
              "  <thead>\n",
              "    <tr style=\"text-align: right;\">\n",
              "      <th></th>\n",
              "      <th>0</th>\n",
              "    </tr>\n",
              "  </thead>\n",
              "  <tbody>\n",
              "    <tr>\n",
              "      <th>0</th>\n",
              "      <td>12346</td>\n",
              "    </tr>\n",
              "    <tr>\n",
              "      <th>1</th>\n",
              "      <td>12347</td>\n",
              "    </tr>\n",
              "    <tr>\n",
              "      <th>2</th>\n",
              "      <td>12348</td>\n",
              "    </tr>\n",
              "    <tr>\n",
              "      <th>3</th>\n",
              "      <td>12350</td>\n",
              "    </tr>\n",
              "    <tr>\n",
              "      <th>4</th>\n",
              "      <td>12352</td>\n",
              "    </tr>\n",
              "  </tbody>\n",
              "</table>\n",
              "</div>"
            ],
            "text/plain": [
              "       0\n",
              "0  12346\n",
              "1  12347\n",
              "2  12348\n",
              "3  12350\n",
              "4  12352"
            ]
          },
          "execution_count": 16,
          "metadata": {},
          "output_type": "execute_result"
        }
      ],
      "source": [
        "pd.DataFrame(users).head()"
      ]
    },
    {
      "cell_type": "code",
      "execution_count": 17,
      "id": "5143ca7c",
      "metadata": {
        "colab": {
          "base_uri": "https://localhost:8080/",
          "height": 206
        },
        "id": "5143ca7c",
        "outputId": "bc4394fd-5d7c-4db4-e7a0-28cde9cdaa6a"
      },
      "outputs": [
        {
          "data": {
            "text/html": [
              "<div>\n",
              "<style scoped>\n",
              "    .dataframe tbody tr th:only-of-type {\n",
              "        vertical-align: middle;\n",
              "    }\n",
              "\n",
              "    .dataframe tbody tr th {\n",
              "        vertical-align: top;\n",
              "    }\n",
              "\n",
              "    .dataframe thead th {\n",
              "        text-align: right;\n",
              "    }\n",
              "</style>\n",
              "<table border=\"1\" class=\"dataframe\">\n",
              "  <thead>\n",
              "    <tr style=\"text-align: right;\">\n",
              "      <th></th>\n",
              "      <th>0</th>\n",
              "    </tr>\n",
              "  </thead>\n",
              "  <tbody>\n",
              "    <tr>\n",
              "      <th>0</th>\n",
              "      <td>Ganma Superheroes Ordinary Life Case For Samsu...</td>\n",
              "    </tr>\n",
              "    <tr>\n",
              "      <th>1</th>\n",
              "      <td>Eye Buy Express Prescription Glasses Mens Wome...</td>\n",
              "    </tr>\n",
              "    <tr>\n",
              "      <th>2</th>\n",
              "      <td>MightySkins Skin Decal Wrap Compatible with Ni...</td>\n",
              "    </tr>\n",
              "    <tr>\n",
              "      <th>3</th>\n",
              "      <td>Mediven Sheer and Soft 15-20 mmHg Thigh w/ Lac...</td>\n",
              "    </tr>\n",
              "    <tr>\n",
              "      <th>4</th>\n",
              "      <td>Stupell Industries Chevron Initial Wall D cor</td>\n",
              "    </tr>\n",
              "  </tbody>\n",
              "</table>\n",
              "</div>"
            ],
            "text/plain": [
              "                                                   0\n",
              "0  Ganma Superheroes Ordinary Life Case For Samsu...\n",
              "1  Eye Buy Express Prescription Glasses Mens Wome...\n",
              "2  MightySkins Skin Decal Wrap Compatible with Ni...\n",
              "3  Mediven Sheer and Soft 15-20 mmHg Thigh w/ Lac...\n",
              "4      Stupell Industries Chevron Initial Wall D cor"
            ]
          },
          "execution_count": 17,
          "metadata": {},
          "output_type": "execute_result"
        }
      ],
      "source": [
        "pd.DataFrame(items).head()"
      ]
    },
    {
      "cell_type": "code",
      "execution_count": 18,
      "id": "6ec0d8cd",
      "metadata": {
        "colab": {
          "base_uri": "https://localhost:8080/",
          "height": 206
        },
        "id": "6ec0d8cd",
        "outputId": "75a821b6-1bcd-4203-eb11-b3fbb6b4dd0b"
      },
      "outputs": [
        {
          "data": {
            "text/html": [
              "<div>\n",
              "<style scoped>\n",
              "    .dataframe tbody tr th:only-of-type {\n",
              "        vertical-align: middle;\n",
              "    }\n",
              "\n",
              "    .dataframe tbody tr th {\n",
              "        vertical-align: top;\n",
              "    }\n",
              "\n",
              "    .dataframe thead th {\n",
              "        text-align: right;\n",
              "    }\n",
              "</style>\n",
              "<table border=\"1\" class=\"dataframe\">\n",
              "  <thead>\n",
              "    <tr style=\"text-align: right;\">\n",
              "      <th></th>\n",
              "      <th>0</th>\n",
              "    </tr>\n",
              "  </thead>\n",
              "  <tbody>\n",
              "    <tr>\n",
              "      <th>0</th>\n",
              "      <td>Small Business</td>\n",
              "    </tr>\n",
              "    <tr>\n",
              "      <th>1</th>\n",
              "      <td>Corporate</td>\n",
              "    </tr>\n",
              "    <tr>\n",
              "      <th>2</th>\n",
              "      <td>Middle class</td>\n",
              "    </tr>\n",
              "    <tr>\n",
              "      <th>3</th>\n",
              "      <td>male</td>\n",
              "    </tr>\n",
              "    <tr>\n",
              "      <th>4</th>\n",
              "      <td>female</td>\n",
              "    </tr>\n",
              "    <tr>\n",
              "      <th>5</th>\n",
              "      <td>53</td>\n",
              "    </tr>\n",
              "    <tr>\n",
              "      <th>6</th>\n",
              "      <td>22</td>\n",
              "    </tr>\n",
              "    <tr>\n",
              "      <th>7</th>\n",
              "      <td>29</td>\n",
              "    </tr>\n",
              "    <tr>\n",
              "      <th>8</th>\n",
              "      <td>36</td>\n",
              "    </tr>\n",
              "    <tr>\n",
              "      <th>9</th>\n",
              "      <td>48</td>\n",
              "    </tr>\n",
              "    <tr>\n",
              "      <th>10</th>\n",
              "      <td>45</td>\n",
              "    </tr>\n",
              "    <tr>\n",
              "      <th>11</th>\n",
              "      <td>47</td>\n",
              "    </tr>\n",
              "    <tr>\n",
              "      <th>12</th>\n",
              "      <td>23</td>\n",
              "    </tr>\n",
              "    <tr>\n",
              "      <th>13</th>\n",
              "      <td>39</td>\n",
              "    </tr>\n",
              "    <tr>\n",
              "      <th>14</th>\n",
              "      <td>34</td>\n",
              "    </tr>\n",
              "    <tr>\n",
              "      <th>15</th>\n",
              "      <td>52</td>\n",
              "    </tr>\n",
              "    <tr>\n",
              "      <th>16</th>\n",
              "      <td>51</td>\n",
              "    </tr>\n",
              "    <tr>\n",
              "      <th>17</th>\n",
              "      <td>35</td>\n",
              "    </tr>\n",
              "    <tr>\n",
              "      <th>18</th>\n",
              "      <td>19</td>\n",
              "    </tr>\n",
              "    <tr>\n",
              "      <th>19</th>\n",
              "      <td>26</td>\n",
              "    </tr>\n",
              "  </tbody>\n",
              "</table>\n",
              "</div>"
            ],
            "text/plain": [
              "                 0\n",
              "0   Small Business\n",
              "1        Corporate\n",
              "2     Middle class\n",
              "3             male\n",
              "4           female\n",
              "5               53\n",
              "6               22\n",
              "7               29\n",
              "8               36\n",
              "9               48\n",
              "10              45\n",
              "11              47\n",
              "12              23\n",
              "13              39\n",
              "14              34\n",
              "15              52\n",
              "16              51\n",
              "17              35\n",
              "18              19\n",
              "19              26"
            ]
          },
          "execution_count": 18,
          "metadata": {},
          "output_type": "execute_result"
        }
      ],
      "source": [
        "pd.DataFrame(features).head(20)"
      ]
    },
    {
      "cell_type": "code",
      "execution_count": 19,
      "id": "0c41c13a",
      "metadata": {
        "id": "0c41c13a"
      },
      "outputs": [],
      "source": [
        "# generate mapping, LightFM library can't read other than (integer) index\n",
        "user_to_index_mapping, index_to_user_mapping, \\\n",
        "           item_to_index_mapping, index_to_item_mapping, \\\n",
        "           feature_to_index_mapping, index_to_feature_mapping = mapping(users, items, features)"
      ]
    },
    {
      "cell_type": "code",
      "execution_count": 20,
      "id": "1a7fead7",
      "metadata": {
        "colab": {
          "base_uri": "https://localhost:8080/",
          "height": 642
        },
        "id": "1a7fead7",
        "outputId": "449e84d2-7e41-4dcf-f23d-96d53765ddab"
      },
      "outputs": [
        {
          "data": {
            "text/html": [
              "<div>\n",
              "<style scoped>\n",
              "    .dataframe tbody tr th:only-of-type {\n",
              "        vertical-align: middle;\n",
              "    }\n",
              "\n",
              "    .dataframe tbody tr th {\n",
              "        vertical-align: top;\n",
              "    }\n",
              "\n",
              "    .dataframe thead th {\n",
              "        text-align: right;\n",
              "    }\n",
              "</style>\n",
              "<table border=\"1\" class=\"dataframe\">\n",
              "  <thead>\n",
              "    <tr style=\"text-align: right;\">\n",
              "      <th></th>\n",
              "      <th>InvoiceNo</th>\n",
              "      <th>StockCode</th>\n",
              "      <th>Quantity</th>\n",
              "      <th>InvoiceDate</th>\n",
              "      <th>DeliveryDate</th>\n",
              "      <th>Discount%</th>\n",
              "      <th>ShipMode</th>\n",
              "      <th>ShippingCost</th>\n",
              "      <th>CustomerID</th>\n",
              "      <th>Gender</th>\n",
              "      <th>Age</th>\n",
              "      <th>Income</th>\n",
              "      <th>Zipcode</th>\n",
              "      <th>Customer Segment</th>\n",
              "      <th>Product Name</th>\n",
              "      <th>Description</th>\n",
              "      <th>Category</th>\n",
              "      <th>Brand</th>\n",
              "      <th>Unit Price</th>\n",
              "    </tr>\n",
              "  </thead>\n",
              "  <tbody>\n",
              "    <tr>\n",
              "      <th>0</th>\n",
              "      <td>536365</td>\n",
              "      <td>84029E</td>\n",
              "      <td>6</td>\n",
              "      <td>2010-12-01 08:26:00</td>\n",
              "      <td>2010-12-02 08:26:00</td>\n",
              "      <td>0.20</td>\n",
              "      <td>ExpressAir</td>\n",
              "      <td>30.12</td>\n",
              "      <td>17850</td>\n",
              "      <td>female</td>\n",
              "      <td>48</td>\n",
              "      <td>Medium</td>\n",
              "      <td>84306</td>\n",
              "      <td>Middle class</td>\n",
              "      <td>3 1/2\"W x 20\"D x 20\"H Funston Craftsman Smooth...</td>\n",
              "      <td>Our Rustic Collection is an instant classic. O...</td>\n",
              "      <td>Home Improvement|Hardware|Brackets and Angle I...</td>\n",
              "      <td>Ekena Milwork</td>\n",
              "      <td>199.11</td>\n",
              "    </tr>\n",
              "    <tr>\n",
              "      <th>1</th>\n",
              "      <td>536365</td>\n",
              "      <td>71053</td>\n",
              "      <td>6</td>\n",
              "      <td>2010-12-01 08:26:00</td>\n",
              "      <td>2010-12-02 08:26:00</td>\n",
              "      <td>0.21</td>\n",
              "      <td>ExpressAir</td>\n",
              "      <td>30.12</td>\n",
              "      <td>17850</td>\n",
              "      <td>female</td>\n",
              "      <td>48</td>\n",
              "      <td>Medium</td>\n",
              "      <td>84306</td>\n",
              "      <td>Middle class</td>\n",
              "      <td>Awkward Styles Shamrock Flag St. Patrick's Day...</td>\n",
              "      <td>Our St Patrick's Day Collection is perfect for...</td>\n",
              "      <td>Clothing|Men|Mens T-Shirts &amp; Tank Tops|Mens Gr...</td>\n",
              "      <td>Awkward Styles</td>\n",
              "      <td>23.95</td>\n",
              "    </tr>\n",
              "    <tr>\n",
              "      <th>2</th>\n",
              "      <td>536365</td>\n",
              "      <td>21730</td>\n",
              "      <td>6</td>\n",
              "      <td>2010-12-01 08:26:00</td>\n",
              "      <td>2010-12-03 08:26:00</td>\n",
              "      <td>0.56</td>\n",
              "      <td>Regular Air</td>\n",
              "      <td>15.22</td>\n",
              "      <td>17850</td>\n",
              "      <td>female</td>\n",
              "      <td>48</td>\n",
              "      <td>Medium</td>\n",
              "      <td>84306</td>\n",
              "      <td>Middle class</td>\n",
              "      <td>Ebe Men Black Rectangle Half Rim Spring Hinge ...</td>\n",
              "      <td>Count on EBE for all of your eye correction ne...</td>\n",
              "      <td>Health|Home Health Care|Daily Living Aids</td>\n",
              "      <td>Eye Buy Express</td>\n",
              "      <td>26.99</td>\n",
              "    </tr>\n",
              "    <tr>\n",
              "      <th>3</th>\n",
              "      <td>536365</td>\n",
              "      <td>84406B</td>\n",
              "      <td>8</td>\n",
              "      <td>2010-12-01 08:26:00</td>\n",
              "      <td>2010-12-03 08:26:00</td>\n",
              "      <td>0.30</td>\n",
              "      <td>Regular Air</td>\n",
              "      <td>15.22</td>\n",
              "      <td>17850</td>\n",
              "      <td>female</td>\n",
              "      <td>48</td>\n",
              "      <td>Medium</td>\n",
              "      <td>84306</td>\n",
              "      <td>Middle class</td>\n",
              "      <td>MightySkins Skin Decal Wrap Compatible with Ap...</td>\n",
              "      <td>Mightyskins are removable vinyl skins for prot...</td>\n",
              "      <td>Electronics|Electronics Learning Center|Ads Fr...</td>\n",
              "      <td>Mightyskins</td>\n",
              "      <td>14.99</td>\n",
              "    </tr>\n",
              "    <tr>\n",
              "      <th>4</th>\n",
              "      <td>536365</td>\n",
              "      <td>22752</td>\n",
              "      <td>2</td>\n",
              "      <td>2010-12-01 08:26:00</td>\n",
              "      <td>2010-12-04 08:26:00</td>\n",
              "      <td>0.57</td>\n",
              "      <td>Delivery Truck</td>\n",
              "      <td>5.81</td>\n",
              "      <td>17850</td>\n",
              "      <td>female</td>\n",
              "      <td>48</td>\n",
              "      <td>Medium</td>\n",
              "      <td>84306</td>\n",
              "      <td>Middle class</td>\n",
              "      <td>awesome since 1948 - 69th birthday gift t-shir...</td>\n",
              "      <td>awesome since 1948 - 69th birthday gift t-shir...</td>\n",
              "      <td>Clothing|Men|Mens T-Shirts &amp; Tank Tops|Mens T-...</td>\n",
              "      <td>Shirtinvaders</td>\n",
              "      <td>49.33</td>\n",
              "    </tr>\n",
              "  </tbody>\n",
              "</table>\n",
              "</div>"
            ],
            "text/plain": [
              "   InvoiceNo StockCode  Quantity         InvoiceDate        DeliveryDate  \\\n",
              "0     536365    84029E         6 2010-12-01 08:26:00 2010-12-02 08:26:00   \n",
              "1     536365     71053         6 2010-12-01 08:26:00 2010-12-02 08:26:00   \n",
              "2     536365     21730         6 2010-12-01 08:26:00 2010-12-03 08:26:00   \n",
              "3     536365    84406B         8 2010-12-01 08:26:00 2010-12-03 08:26:00   \n",
              "4     536365     22752         2 2010-12-01 08:26:00 2010-12-04 08:26:00   \n",
              "\n",
              "   Discount%        ShipMode  ShippingCost  CustomerID  Gender  Age  Income  \\\n",
              "0       0.20      ExpressAir         30.12       17850  female   48  Medium   \n",
              "1       0.21      ExpressAir         30.12       17850  female   48  Medium   \n",
              "2       0.56     Regular Air         15.22       17850  female   48  Medium   \n",
              "3       0.30     Regular Air         15.22       17850  female   48  Medium   \n",
              "4       0.57  Delivery Truck          5.81       17850  female   48  Medium   \n",
              "\n",
              "   Zipcode Customer Segment  \\\n",
              "0    84306     Middle class   \n",
              "1    84306     Middle class   \n",
              "2    84306     Middle class   \n",
              "3    84306     Middle class   \n",
              "4    84306     Middle class   \n",
              "\n",
              "                                        Product Name  \\\n",
              "0  3 1/2\"W x 20\"D x 20\"H Funston Craftsman Smooth...   \n",
              "1  Awkward Styles Shamrock Flag St. Patrick's Day...   \n",
              "2  Ebe Men Black Rectangle Half Rim Spring Hinge ...   \n",
              "3  MightySkins Skin Decal Wrap Compatible with Ap...   \n",
              "4  awesome since 1948 - 69th birthday gift t-shir...   \n",
              "\n",
              "                                         Description  \\\n",
              "0  Our Rustic Collection is an instant classic. O...   \n",
              "1  Our St Patrick's Day Collection is perfect for...   \n",
              "2  Count on EBE for all of your eye correction ne...   \n",
              "3  Mightyskins are removable vinyl skins for prot...   \n",
              "4  awesome since 1948 - 69th birthday gift t-shir...   \n",
              "\n",
              "                                            Category            Brand  \\\n",
              "0  Home Improvement|Hardware|Brackets and Angle I...    Ekena Milwork   \n",
              "1  Clothing|Men|Mens T-Shirts & Tank Tops|Mens Gr...   Awkward Styles   \n",
              "2          Health|Home Health Care|Daily Living Aids  Eye Buy Express   \n",
              "3  Electronics|Electronics Learning Center|Ads Fr...      Mightyskins   \n",
              "4  Clothing|Men|Mens T-Shirts & Tank Tops|Mens T-...    Shirtinvaders   \n",
              "\n",
              "   Unit Price  \n",
              "0      199.11  \n",
              "1       23.95  \n",
              "2       26.99  \n",
              "3       14.99  \n",
              "4       49.33  "
            ]
          },
          "execution_count": 20,
          "metadata": {},
          "output_type": "execute_result"
        }
      ],
      "source": [
        "full_table.head()"
      ]
    },
    {
      "cell_type": "code",
      "execution_count": 21,
      "id": "456f4032",
      "metadata": {
        "id": "456f4032"
      },
      "outputs": [],
      "source": [
        "user_to_product_rating_train=full_table[['CustomerID','Product Name','Quantity']]"
      ]
    },
    {
      "cell_type": "code",
      "execution_count": 22,
      "id": "3cf8148f",
      "metadata": {
        "id": "3cf8148f"
      },
      "outputs": [],
      "source": [
        "product_to_feature=full_table[['Product Name','Customer Segment','Quantity']]"
      ]
    },
    {
      "cell_type": "code",
      "execution_count": 23,
      "id": "066908d5",
      "metadata": {
        "id": "066908d5"
      },
      "outputs": [],
      "source": [
        "user_to_product_rating_train=user_to_product_rating_train.groupby(['CustomerID','Product Name']).agg({'Quantity':'sum'}).reset_index()"
      ]
    },
    {
      "cell_type": "code",
      "execution_count": 24,
      "id": "7909a00f",
      "metadata": {
        "colab": {
          "base_uri": "https://localhost:8080/",
          "height": 206
        },
        "id": "7909a00f",
        "outputId": "b7fb198d-86c3-4d02-cd0c-9b6971de4b34"
      },
      "outputs": [
        {
          "data": {
            "text/html": [
              "<div>\n",
              "<style scoped>\n",
              "    .dataframe tbody tr th:only-of-type {\n",
              "        vertical-align: middle;\n",
              "    }\n",
              "\n",
              "    .dataframe tbody tr th {\n",
              "        vertical-align: top;\n",
              "    }\n",
              "\n",
              "    .dataframe thead th {\n",
              "        text-align: right;\n",
              "    }\n",
              "</style>\n",
              "<table border=\"1\" class=\"dataframe\">\n",
              "  <thead>\n",
              "    <tr style=\"text-align: right;\">\n",
              "      <th></th>\n",
              "      <th>CustomerID</th>\n",
              "      <th>Product Name</th>\n",
              "      <th>Quantity</th>\n",
              "    </tr>\n",
              "  </thead>\n",
              "  <tbody>\n",
              "    <tr>\n",
              "      <th>138397</th>\n",
              "      <td>18287</td>\n",
              "      <td>Sport-Tek Ladies PosiCharge Competitor Tee</td>\n",
              "      <td>24</td>\n",
              "    </tr>\n",
              "    <tr>\n",
              "      <th>138398</th>\n",
              "      <td>18287</td>\n",
              "      <td>Ultra Sleek And Spacious Pearl White Lacquer 1...</td>\n",
              "      <td>6</td>\n",
              "    </tr>\n",
              "    <tr>\n",
              "      <th>138399</th>\n",
              "      <td>18287</td>\n",
              "      <td>Union 3\" Female Ports Stainless Steel Pipe Fit...</td>\n",
              "      <td>12</td>\n",
              "    </tr>\n",
              "    <tr>\n",
              "      <th>138400</th>\n",
              "      <td>18287</td>\n",
              "      <td>awesome since 1948 - 69th birthday gift t-shir...</td>\n",
              "      <td>4</td>\n",
              "    </tr>\n",
              "    <tr>\n",
              "      <th>138401</th>\n",
              "      <td>18287</td>\n",
              "      <td>billyboards Porcelain Menu Chalkboard</td>\n",
              "      <td>6</td>\n",
              "    </tr>\n",
              "  </tbody>\n",
              "</table>\n",
              "</div>"
            ],
            "text/plain": [
              "        CustomerID                                       Product Name  \\\n",
              "138397       18287         Sport-Tek Ladies PosiCharge Competitor Tee   \n",
              "138398       18287  Ultra Sleek And Spacious Pearl White Lacquer 1...   \n",
              "138399       18287  Union 3\" Female Ports Stainless Steel Pipe Fit...   \n",
              "138400       18287  awesome since 1948 - 69th birthday gift t-shir...   \n",
              "138401       18287              billyboards Porcelain Menu Chalkboard   \n",
              "\n",
              "        Quantity  \n",
              "138397        24  \n",
              "138398         6  \n",
              "138399        12  \n",
              "138400         4  \n",
              "138401         6  "
            ]
          },
          "execution_count": 24,
          "metadata": {},
          "output_type": "execute_result"
        }
      ],
      "source": [
        "user_to_product_rating_train.tail()"
      ]
    },
    {
      "cell_type": "markdown",
      "id": "7c8839f4",
      "metadata": {
        "id": "7c8839f4"
      },
      "source": [
        "# train test split"
      ]
    },
    {
      "cell_type": "code",
      "execution_count": 25,
      "id": "5645196e",
      "metadata": {
        "id": "5645196e"
      },
      "outputs": [],
      "source": [
        "from sklearn.model_selection import train_test_split"
      ]
    },
    {
      "cell_type": "code",
      "execution_count": 27,
      "id": "1c67748c",
      "metadata": {
        "id": "1c67748c"
      },
      "outputs": [],
      "source": [
        "# perform train test split - 67:33 percent\n",
        "user_to_product_rating_train,user_to_product_rating_test = train_test_split(user_to_product_rating_train,\n",
        "                                                                            test_size=0.33, random_state=42)"
      ]
    },
    {
      "cell_type": "code",
      "execution_count": 28,
      "id": "97c137f0",
      "metadata": {
        "colab": {
          "base_uri": "https://localhost:8080/"
        },
        "id": "97c137f0",
        "outputId": "ea1ba51f-8805-43a3-b77a-b17fdb682e92"
      },
      "outputs": [
        {
          "data": {
            "text/plain": [
              "(62128, 3)"
            ]
          },
          "execution_count": 28,
          "metadata": {},
          "output_type": "execute_result"
        }
      ],
      "source": [
        "# check the shape of train data\n",
        "user_to_product_rating_train.shape"
      ]
    },
    {
      "cell_type": "code",
      "execution_count": 29,
      "id": "0bcb26a4",
      "metadata": {
        "colab": {
          "base_uri": "https://localhost:8080/"
        },
        "id": "0bcb26a4",
        "outputId": "f671347c-b3e0-4275-866b-f25094212e73"
      },
      "outputs": [
        {
          "data": {
            "text/plain": [
              "(30601, 3)"
            ]
          },
          "execution_count": 29,
          "metadata": {},
          "output_type": "execute_result"
        }
      ],
      "source": [
        "# check the shape of test data\n",
        "user_to_product_rating_test.shape"
      ]
    },
    {
      "cell_type": "code",
      "execution_count": 31,
      "id": "19e79fa8",
      "metadata": {},
      "outputs": [],
      "source": [
        "product_to_feature = product_to_feature.groupby(['Product Name', 'Customer Segment']).agg({'Quantity': 'sum'}).reset_index()"
      ]
    },
    {
      "cell_type": "code",
      "execution_count": 31,
      "id": "9981a526",
      "metadata": {
        "id": "9981a526"
      },
      "outputs": [],
      "source": [
        "# perform groupby\n",
        "#product_to_feature=product_to_feature.groupby(['Product Name','Customer Segment']).agg({'Quantity':'sum'}).reset_index()"
      ]
    },
    {
      "cell_type": "code",
      "execution_count": 32,
      "id": "989721b0",
      "metadata": {
        "colab": {
          "base_uri": "https://localhost:8080/",
          "height": 206
        },
        "id": "989721b0",
        "outputId": "9d46056c-a101-4af2-9f21-26435cccd1a8"
      },
      "outputs": [
        {
          "data": {
            "text/html": [
              "<div>\n",
              "<style scoped>\n",
              "    .dataframe tbody tr th:only-of-type {\n",
              "        vertical-align: middle;\n",
              "    }\n",
              "\n",
              "    .dataframe tbody tr th {\n",
              "        vertical-align: top;\n",
              "    }\n",
              "\n",
              "    .dataframe thead th {\n",
              "        text-align: right;\n",
              "    }\n",
              "</style>\n",
              "<table border=\"1\" class=\"dataframe\">\n",
              "  <thead>\n",
              "    <tr style=\"text-align: right;\">\n",
              "      <th></th>\n",
              "      <th>Product Name</th>\n",
              "      <th>Customer Segment</th>\n",
              "      <th>Quantity</th>\n",
              "    </tr>\n",
              "  </thead>\n",
              "  <tbody>\n",
              "    <tr>\n",
              "      <th>0</th>\n",
              "      <td>\"In Vinyl W.e Trust\" Rasta Quote Men's T-shirt</td>\n",
              "      <td>Corporate</td>\n",
              "      <td>712</td>\n",
              "    </tr>\n",
              "    <tr>\n",
              "      <th>1</th>\n",
              "      <td>\"In Vinyl W.e Trust\" Rasta Quote Men's T-shirt</td>\n",
              "      <td>Middle class</td>\n",
              "      <td>272</td>\n",
              "    </tr>\n",
              "    <tr>\n",
              "      <th>2</th>\n",
              "      <td>\"In Vinyl W.e Trust\" Rasta Quote Men's T-shirt</td>\n",
              "      <td>Small Business</td>\n",
              "      <td>388</td>\n",
              "    </tr>\n",
              "    <tr>\n",
              "      <th>3</th>\n",
              "      <td>\"Soccer\" Vinyl Graphic - Large - Ivory</td>\n",
              "      <td>Corporate</td>\n",
              "      <td>1940</td>\n",
              "    </tr>\n",
              "    <tr>\n",
              "      <th>4</th>\n",
              "      <td>\"Soccer\" Vinyl Graphic - Large - Ivory</td>\n",
              "      <td>Middle class</td>\n",
              "      <td>1418</td>\n",
              "    </tr>\n",
              "  </tbody>\n",
              "</table>\n",
              "</div>"
            ],
            "text/plain": [
              "                                     Product Name Customer Segment  Quantity\n",
              "0  \"In Vinyl W.e Trust\" Rasta Quote Men's T-shirt        Corporate       712\n",
              "1  \"In Vinyl W.e Trust\" Rasta Quote Men's T-shirt     Middle class       272\n",
              "2  \"In Vinyl W.e Trust\" Rasta Quote Men's T-shirt   Small Business       388\n",
              "3          \"Soccer\" Vinyl Graphic - Large - Ivory        Corporate      1940\n",
              "4          \"Soccer\" Vinyl Graphic - Large - Ivory     Middle class      1418"
            ]
          },
          "execution_count": 32,
          "metadata": {},
          "output_type": "execute_result"
        }
      ],
      "source": [
        "product_to_feature.head()"
      ]
    },
    {
      "cell_type": "code",
      "execution_count": 33,
      "id": "629371dc",
      "metadata": {
        "id": "629371dc"
      },
      "outputs": [],
      "source": [
        "# create a function for interactions\n",
        "def interactions(data, row, col, value, row_map, col_map):\n",
        "\n",
        "    row = data[row].apply(lambda x: row_map[x]).values\n",
        "    col = data[col].apply(lambda x: col_map[x]).values\n",
        "    value = data[value].values\n",
        "\n",
        "    return coo_matrix((value, (row, col)), shape = (len(row_map), len(col_map)))\n"
      ]
    },
    {
      "cell_type": "code",
      "execution_count": 34,
      "id": "46d96f91",
      "metadata": {
        "id": "46d96f91"
      },
      "outputs": [],
      "source": [
        "# generate user_item_interaction_matrix for train data\n",
        "user_to_product_interaction_train = interactions(user_to_product_rating_train, \"CustomerID\",\n",
        "                                                    \"Product Name\", \"Quantity\", user_to_index_mapping, item_to_index_mapping)\n",
        "\n",
        "# generate item_to_feature interaction\n",
        "product_to_feature_interaction = interactions(product_to_feature, \"Product Name\", \"Customer Segment\",\"Quantity\",\n",
        "                                                        item_to_index_mapping, feature_to_index_mapping)"
      ]
    },
    {
      "cell_type": "code",
      "execution_count": 35,
      "id": "cf8115fb",
      "metadata": {
        "id": "cf8115fb"
      },
      "outputs": [],
      "source": [
        "# generate user_item_interaction_matrix for test data\n",
        "user_to_product_interaction_test = interactions(user_to_product_rating_test, \"CustomerID\",\n",
        "                                                    \"Product Name\", \"Quantity\", user_to_index_mapping, item_to_index_mapping)"
      ]
    },
    {
      "cell_type": "code",
      "execution_count": 36,
      "id": "da26cffb",
      "metadata": {
        "colab": {
          "base_uri": "https://localhost:8080/"
        },
        "id": "da26cffb",
        "outputId": "7df59876-fb10-4e80-f4f7-7c6c6a7c5fb3"
      },
      "outputs": [
        {
          "data": {
            "text/plain": [
              "<3647x797 sparse matrix of type '<class 'numpy.int64'>'\n",
              "\twith 62128 stored elements in COOrdinate format>"
            ]
          },
          "execution_count": 36,
          "metadata": {},
          "output_type": "execute_result"
        }
      ],
      "source": [
        "user_to_product_interaction_train"
      ]
    },
    {
      "cell_type": "code",
      "execution_count": 37,
      "id": "e729ce20",
      "metadata": {
        "colab": {
          "base_uri": "https://localhost:8080/"
        },
        "id": "e729ce20",
        "outputId": "4dd19f50-8f04-4c03-fac3-a334235a2794"
      },
      "outputs": [
        {
          "data": {
            "text/plain": [
              "<3647x797 sparse matrix of type '<class 'numpy.int64'>'\n",
              "\twith 30601 stored elements in COOrdinate format>"
            ]
          },
          "execution_count": 37,
          "metadata": {},
          "output_type": "execute_result"
        }
      ],
      "source": [
        "user_to_product_interaction_test"
      ]
    },
    {
      "cell_type": "markdown",
      "id": "9a0b045d",
      "metadata": {
        "id": "9a0b045d"
      },
      "source": [
        "# Model building on training set\n",
        "Parameters:\n",
        "Loss=warp\n",
        "epochs=1\n",
        "num_threads=4"
      ]
    },
    {
      "cell_type": "code",
      "execution_count": 39,
      "id": "02696edb",
      "metadata": {
        "colab": {
          "base_uri": "https://localhost:8080/"
        },
        "id": "02696edb",
        "outputId": "7b2e8145-e3e7-4dbe-914a-4b6d963be0c7"
      },
      "outputs": [
        {
          "name": "stdout",
          "output_type": "stream",
          "text": [
            "time taken = 11.88 seconds\n"
          ]
        }
      ],
      "source": [
        "# initialising model with warp loss function\n",
        "model_with_features = LightFM(loss = \"warp\")\n",
        "\n",
        "# fitting the model with hybrid collaborative filtering + content based (product + features)\n",
        "start = time.time()\n",
        "#===================\n",
        "\n",
        "\n",
        "model_with_features.fit_partial(user_to_product_interaction_train,\n",
        "          user_features=None,\n",
        "          item_features=product_to_feature_interaction,\n",
        "          sample_weight=None,\n",
        "          epochs=100,\n",
        "          num_threads=4,\n",
        "          verbose=False)\n",
        "\n",
        "#===================\n",
        "end = time.time()\n",
        "print(\"time taken = {0:.{1}f} seconds\".format(end - start, 2))"
      ]
    },
    {
      "cell_type": "code",
      "execution_count": 40,
      "id": "f13d7017",
      "metadata": {
        "colab": {
          "base_uri": "https://localhost:8080/"
        },
        "id": "f13d7017",
        "outputId": "0afdc511-f750-470d-a715-2463d5a6f58b"
      },
      "outputs": [
        {
          "name": "stdout",
          "output_type": "stream",
          "text": [
            "time taken = 0.03 seconds\n",
            "average AUC without adding item-feature interaction = 0.15\n"
          ]
        }
      ],
      "source": [
        "start = time.time()\n",
        "#===================\n",
        "auc_with_features = auc_score(model = model_with_features,\n",
        "                        test_interactions = user_to_product_interaction_test,\n",
        "                        train_interactions = user_to_product_interaction_train,\n",
        "                        item_features = product_to_feature_interaction,\n",
        "                        num_threads = 4, check_intersections=False)\n",
        "#===================\n",
        "end = time.time()\n",
        "print(\"time taken = {0:.{1}f} seconds\".format(end - start, 2))\n",
        "\n",
        "print(\"average AUC without adding item-feature interaction = {0:.{1}f}\".format(auc_with_features.mean(), 2))\n",
        "\n"
      ]
    },
    {
      "cell_type": "markdown",
      "id": "4ac52c8c",
      "metadata": {
        "id": "4ac52c8c"
      },
      "source": [
        "# Model building on training set\n",
        "Parameters:\n",
        "Loss=logistic\n",
        "epochs=1\n",
        "num_threads=4"
      ]
    },
    {
      "cell_type": "code",
      "execution_count": 41,
      "id": "720ca625",
      "metadata": {
        "colab": {
          "base_uri": "https://localhost:8080/"
        },
        "id": "720ca625",
        "outputId": "2949e996-bf9b-41c7-f0c8-032799567696"
      },
      "outputs": [
        {
          "name": "stdout",
          "output_type": "stream",
          "text": [
            "time taken = 8.74 seconds\n"
          ]
        }
      ],
      "source": [
        "# initialising model with logistic loss function\n",
        "model_with_features = LightFM(loss = \"logistic\")\n",
        "\n",
        "# fitting the model with hybrid collaborative filtering + content based (product + features)\n",
        "start = time.time()\n",
        "#===================\n",
        "\n",
        "\n",
        "model_with_features.fit_partial(user_to_product_interaction_train,\n",
        "          user_features=None,\n",
        "          item_features=product_to_feature_interaction,\n",
        "          sample_weight=None,\n",
        "          epochs=100,\n",
        "          num_threads=4,\n",
        "          verbose=False)\n",
        "\n",
        "#===================\n",
        "end = time.time()\n",
        "print(\"time taken = {0:.{1}f} seconds\".format(end - start, 2))"
      ]
    },
    {
      "cell_type": "code",
      "execution_count": 42,
      "id": "32bb9e19",
      "metadata": {
        "colab": {
          "base_uri": "https://localhost:8080/"
        },
        "id": "32bb9e19",
        "outputId": "7a5c87c2-db53-4c8e-a83a-b6319e66cd58"
      },
      "outputs": [
        {
          "name": "stdout",
          "output_type": "stream",
          "text": [
            "time taken = 0.03 seconds\n",
            "average AUC without adding item-feature interaction = 0.89\n"
          ]
        }
      ],
      "source": [
        "start = time.time()\n",
        "#===================\n",
        "auc_with_features = auc_score(model = model_with_features,\n",
        "                        test_interactions = user_to_product_interaction_test,\n",
        "                        train_interactions = user_to_product_interaction_train,\n",
        "                        item_features = product_to_feature_interaction,\n",
        "                        num_threads = 4, check_intersections=False)\n",
        "#===================\n",
        "end = time.time()\n",
        "print(\"time taken = {0:.{1}f} seconds\".format(end - start, 2))\n",
        "\n",
        "print(\"average AUC without adding item-feature interaction = {0:.{1}f}\".format(auc_with_features.mean(), 2))\n"
      ]
    },
    {
      "cell_type": "markdown",
      "id": "24c99ac5",
      "metadata": {
        "id": "24c99ac5"
      },
      "source": [
        "# Model building on training set\n",
        "Parameters:\n",
        "Loss=bpr\n",
        "epochs=1\n",
        "num_threads=4"
      ]
    },
    {
      "cell_type": "code",
      "execution_count": 44,
      "id": "ae48a568",
      "metadata": {
        "colab": {
          "base_uri": "https://localhost:8080/"
        },
        "id": "ae48a568",
        "outputId": "01e453be-37f2-400e-e68c-45afa7afd090"
      },
      "outputs": [
        {
          "name": "stdout",
          "output_type": "stream",
          "text": [
            "time taken = 14.82 seconds\n"
          ]
        }
      ],
      "source": [
        "# initialising model with bpr loss function\n",
        "model_with_features = LightFM(loss = \"bpr\")\n",
        "\n",
        "# fitting the model with hybrid collaborative filtering + content based (product + features)\n",
        "start = time.time()\n",
        "#===================\n",
        "\n",
        "\n",
        "model_with_features.fit_partial(user_to_product_interaction_train,\n",
        "          user_features=None,\n",
        "          item_features=product_to_feature_interaction,\n",
        "          sample_weight=None,\n",
        "          epochs=100,\n",
        "          num_threads=4,\n",
        "          verbose=False)\n",
        "\n",
        "#===================\n",
        "end = time.time()\n",
        "print(\"time taken = {0:.{1}f} seconds\".format(end - start, 2))"
      ]
    },
    {
      "cell_type": "code",
      "execution_count": 45,
      "id": "6991ff7a",
      "metadata": {
        "colab": {
          "base_uri": "https://localhost:8080/"
        },
        "id": "6991ff7a",
        "outputId": "b24ae60c-8da6-4944-cf61-809bcf1a539d"
      },
      "outputs": [
        {
          "name": "stdout",
          "output_type": "stream",
          "text": [
            "time taken = 0.03 seconds\n",
            "average AUC without adding item-feature interaction = 0.29\n"
          ]
        }
      ],
      "source": [
        "start = time.time()\n",
        "#===================\n",
        "auc_with_features = auc_score(model = model_with_features,\n",
        "                        test_interactions = user_to_product_interaction_test,\n",
        "                        train_interactions = user_to_product_interaction_train,\n",
        "                        item_features = product_to_feature_interaction,\n",
        "                        num_threads = 4, check_intersections=False)\n",
        "#===================\n",
        "end = time.time()\n",
        "print(\"time taken = {0:.{1}f} seconds\".format(end - start, 2))\n",
        "\n",
        "print(\"average AUC without adding item-feature interaction = {0:.{1}f}\".format(auc_with_features.mean(), 2))\n"
      ]
    },
    {
      "cell_type": "markdown",
      "id": "32dc84b1",
      "metadata": {
        "id": "32dc84b1"
      },
      "source": [
        "# Model building on training set\n",
        "Parameters:\n",
        "Loss=logistic\n",
        "epochs=100\n",
        "num_threads=20"
      ]
    },
    {
      "cell_type": "code",
      "execution_count": 46,
      "id": "387fd6ae",
      "metadata": {
        "colab": {
          "base_uri": "https://localhost:8080/"
        },
        "id": "387fd6ae",
        "outputId": "56a97ec6-d88c-4374-96d6-e48b558b8acd"
      },
      "outputs": [
        {
          "name": "stdout",
          "output_type": "stream",
          "text": [
            "time taken = 8.11 seconds\n"
          ]
        }
      ],
      "source": [
        "model_with_features = LightFM(loss = \"logistic\")\n",
        "\n",
        "# fitting the model with hybrid collaborative filtering + content based (product + features)\n",
        "start = time.time()\n",
        "#===================\n",
        "\n",
        "\n",
        "model_with_features.fit_partial(user_to_product_interaction_train,\n",
        "          user_features=None,\n",
        "          item_features=product_to_feature_interaction,\n",
        "          sample_weight=None,\n",
        "          epochs=100,\n",
        "          num_threads=20,\n",
        "          verbose=False)\n",
        "\n",
        "#===================\n",
        "end = time.time()\n",
        "print(\"time taken = {0:.{1}f} seconds\".format(end - start, 2))"
      ]
    },
    {
      "cell_type": "code",
      "execution_count": 47,
      "id": "d89c0f34",
      "metadata": {
        "colab": {
          "base_uri": "https://localhost:8080/"
        },
        "id": "d89c0f34",
        "outputId": "15918942-48ef-4332-d4db-a3562d096f89"
      },
      "outputs": [
        {
          "name": "stdout",
          "output_type": "stream",
          "text": [
            "time taken = 0.02 seconds\n",
            "average AUC without adding item-feature interaction = 0.88\n"
          ]
        }
      ],
      "source": [
        "start = time.time()\n",
        "#===================\n",
        "auc_with_features = auc_score(model = model_with_features,\n",
        "                        test_interactions = user_to_product_interaction_test,\n",
        "                        train_interactions = user_to_product_interaction_train,\n",
        "                        item_features = product_to_feature_interaction,\n",
        "                        num_threads = 4, check_intersections=False)\n",
        "#===================\n",
        "end = time.time()\n",
        "print(\"time taken = {0:.{1}f} seconds\".format(end - start, 2))\n",
        "\n",
        "print(\"average AUC without adding item-feature interaction = {0:.{1}f}\".format(auc_with_features.mean(), 2))\n"
      ]
    },
    {
      "cell_type": "code",
      "execution_count": 48,
      "id": "cece8b49",
      "metadata": {
        "id": "cece8b49"
      },
      "outputs": [],
      "source": [
        "def train_test_merge(training_data, testing_data):\n",
        "\n",
        "    # initialising train dict\n",
        "    train_dict = {}\n",
        "    for row, col, data in zip(training_data.row, training_data.col, training_data.data):\n",
        "        train_dict[(row, col)] = data\n",
        "\n",
        "    # replacing with the test set\n",
        "\n",
        "    for row, col, data in zip(testing_data.row, testing_data.col, testing_data.data):\n",
        "        train_dict[(row, col)] = max(data, train_dict.get((row, col), 0))\n",
        "\n",
        "\n",
        "    # converting to the row\n",
        "    row_list = []\n",
        "    col_list = []\n",
        "    data_list = []\n",
        "    for row, col in train_dict:\n",
        "        row_list.append(row)\n",
        "        col_list.append(col)\n",
        "        data_list.append(train_dict[(row, col)])\n",
        "\n",
        "    # converting to np array\n",
        "\n",
        "    row_list = np.array(row_list)\n",
        "    col_list = np.array(col_list)\n",
        "    data_list = np.array(data_list)\n",
        "\n",
        "    return coo_matrix((data_list, (row_list, col_list)), shape = (training_data.shape[0], training_data.shape[1]))"
      ]
    },
    {
      "cell_type": "code",
      "execution_count": 49,
      "id": "0e755c56",
      "metadata": {
        "id": "0e755c56"
      },
      "outputs": [],
      "source": [
        "user_to_product_interaction = train_test_merge(user_to_product_interaction_train,\n",
        "                                                 user_to_product_interaction_test)"
      ]
    },
    {
      "cell_type": "code",
      "execution_count": 50,
      "id": "046c7fdb",
      "metadata": {
        "colab": {
          "base_uri": "https://localhost:8080/"
        },
        "id": "046c7fdb",
        "outputId": "8e122222-1bb9-4e6a-ecd0-6a82986343a4"
      },
      "outputs": [
        {
          "data": {
            "text/plain": [
              "<3647x797 sparse matrix of type '<class 'numpy.float64'>'\n",
              "\twith 92729 stored elements in COOrdinate format>"
            ]
          },
          "execution_count": 50,
          "metadata": {},
          "output_type": "execute_result"
        }
      ],
      "source": [
        "user_to_product_interaction"
      ]
    },
    {
      "cell_type": "markdown",
      "id": "013c3c84",
      "metadata": {
        "id": "013c3c84"
      },
      "source": [
        "# Final Model after combining the train and test data\n",
        "Parameters:\n",
        "Loss=warp\n",
        "epochs=500\n",
        "num_threads=20"
      ]
    },
    {
      "cell_type": "code",
      "execution_count": 51,
      "id": "3cd913ce",
      "metadata": {
        "colab": {
          "base_uri": "https://localhost:8080/"
        },
        "id": "3cd913ce",
        "outputId": "9963a098-df7e-4b65-eb65-b0fb6fd0a396"
      },
      "outputs": [
        {
          "name": "stdout",
          "output_type": "stream",
          "text": [
            "time taken = 146.28 seconds\n"
          ]
        }
      ],
      "source": [
        "# retraining the final model with combined dataset\n",
        "\n",
        "final_model = LightFM(loss = \"logistic\",no_components=30)\n",
        "\n",
        "# fitting to combined dataset\n",
        "\n",
        "start = time.time()\n",
        "#===================\n",
        "\n",
        "final_model.fit(user_to_product_interaction,\n",
        "          user_features=None,\n",
        "          item_features=product_to_feature_interaction,\n",
        "          sample_weight=None,\n",
        "          epochs=500,\n",
        "          num_threads=10,\n",
        "          verbose=False)\n",
        "\n",
        "#===================\n",
        "end = time.time()\n",
        "print(\"time taken = {0:.{1}f} seconds\".format(end - start, 2))"
      ]
    },
    {
      "cell_type": "code",
      "execution_count": 55,
      "id": "49a85858",
      "metadata": {
        "id": "49a85858"
      },
      "outputs": [],
      "source": [
        "def get_recommendations(model,user,items,user_to_product_interaction_matrix,user2index_map,product_to_feature_interaction_matrix):\n",
        "\n",
        "    # getting the userindex\n",
        "\n",
        "        userindex = user2index_map.get(user, None)\n",
        "\n",
        "        if userindex == None:\n",
        "            return None\n",
        "\n",
        "        users = userindex\n",
        "\n",
        "        # products already bought\n",
        "\n",
        "        known_positives = items[user_to_product_interaction_matrix.tocsr()[userindex].indices]\n",
        "        print('User index =',users)\n",
        "\n",
        "        # scores from model prediction\n",
        "        scores = model.predict(user_ids = users, item_ids = np.arange(user_to_product_interaction_matrix.shape[1]),item_features=product_to_feature_interaction_matrix)\n",
        "\n",
        "        # top items\n",
        "\n",
        "        top_items = items[np.argsort(-scores)]\n",
        "\n",
        "        # printing out the result\n",
        "        print(\"User %s\" % user)\n",
        "        print(\"     Known positives:\")  # already known products\n",
        "\n",
        "        for x in known_positives[:10]:\n",
        "            print(\"                  %s\" % x)\n",
        "\n",
        "\n",
        "        print(\"     Recommended:\")  # products that are reccommended to the user\n",
        "\n",
        "        for x in top_items[:10]:\n",
        "            print(\"                  %s\" % x)\n"
      ]
    },
    {
      "cell_type": "code",
      "execution_count": 56,
      "id": "6026fd51",
      "metadata": {
        "colab": {
          "base_uri": "https://localhost:8080/"
        },
        "id": "6026fd51",
        "outputId": "05aac31f-7b5d-4f51-9b77-5cf2a3eba6c9"
      },
      "outputs": [
        {
          "name": "stdout",
          "output_type": "stream",
          "text": [
            "User index = 2888\n",
            "User 17017\n",
            "     Known positives:\n",
            "                  Ganma Superheroes Ordinary Life Case For Samsung Galaxy Note 5 Hard Case Cover\n",
            "                  MightySkins Skin Decal Wrap Compatible with Nintendo Sticker Protective Cover 100's of Color Options\n",
            "                  MightySkins Skin Decal Wrap Compatible with Lenovo Sticker Protective Cover 100's of Color Options\n",
            "                  Union 3\" Female Ports Stainless Steel Pipe Fitting\n",
            "                  Ebe Women Reading Glasses Reader Cheaters Anti Reflective Lenses TR90 ry2209\n",
            "                  3 1/2\"W x 32\"D x 36\"H Traditional Arts & Crafts Smooth Bracket, Douglas Fir\n",
            "                  MightySkins Skin Decal Wrap Compatible with HP Sticker Protective Cover 100's of Color Options\n",
            "                  MightySkins Skin Decal Wrap Compatible with Apple Sticker Protective Cover 100's of Color Options\n",
            "                  New Way 1120 - Crewneck Your Job Could Be Worse Toilet Paper Sweatshirt 4XL Light Pink\n",
            "                  3 1/2\"W x 20\"D x 20\"H Funston Craftsman Smooth Bracket, Douglas Fir\n",
            "     Recommended:\n",
            "                  Mediven Sheer and Soft 15-20 mmHg Thigh w/ Lace Silicone Top Band CT Wheat II - Ankle 8-8.75 inches\n",
            "                  MightySkins Skin Decal Wrap Compatible with Apple Sticker Protective Cover 100's of Color Options\n",
            "                  3 1/2\"W x 20\"D x 20\"H Funston Craftsman Smooth Bracket, Douglas Fir\n",
            "                  MightySkins Skin Decal Wrap Compatible with DJI Sticker Protective Cover 100's of Color Options\n",
            "                  MightySkins Skin Decal Wrap Compatible with HP Sticker Protective Cover 100's of Color Options\n",
            "                  Ebe Women Reading Glasses Reader Cheaters Anti Reflective Lenses TR90 ry2209\n",
            "                  A6 Invitation Envelopes w/Peel & Press (4 3/4 x 6 1/2) - Baby Blue (1000 Qty.)\n",
            "                  Handcrafted Ercolano Music Box Featuring \"Luncheon of the Boating Party\" by Renoir, Pierre Auguste - New YorkNew York\n",
            "                  MightySkins Skin Decal Wrap Compatible with Smok Sticker Protective Cover 100's of Color Options\n",
            "                  MightySkins Skin Decal Wrap Compatible with Lenovo Sticker Protective Cover 100's of Color Options\n"
          ]
        }
      ],
      "source": [
        "# check for the reccomendation\n",
        "get_recommendations(final_model,17017,items,user_to_product_interaction,user_to_index_mapping,product_to_feature_interaction)"
      ]
    },
    {
      "cell_type": "code",
      "execution_count": 57,
      "id": "dc4bf26e",
      "metadata": {
        "colab": {
          "base_uri": "https://localhost:8080/"
        },
        "id": "dc4bf26e",
        "outputId": "ab5d5e37-2d52-474a-9dcf-3c8a3a7035ca"
      },
      "outputs": [
        {
          "name": "stdout",
          "output_type": "stream",
          "text": [
            "User index = 3646\n",
            "User 18287\n",
            "     Known positives:\n",
            "                  MightySkins Skin Decal Wrap Compatible with Nintendo Sticker Protective Cover 100's of Color Options\n",
            "                  Mediven Sheer and Soft 15-20 mmHg Thigh w/ Lace Silicone Top Band CT Wheat II - Ankle 8-8.75 inches\n",
            "                  MightySkins Skin Decal Wrap Compatible with DJI Sticker Protective Cover 100's of Color Options\n",
            "                  Union 3\" Female Ports Stainless Steel Pipe Fitting\n",
            "                  Ebe Women Reading Glasses Reader Cheaters Anti Reflective Lenses TR90 ry2209\n",
            "                  6pc Boy Formal Necktie Black & White Suit Set Satin Bow tie Baby Sm-20 Teen\n",
            "                  Buckle-Down PC-W30348-NM Cameroon Flags Plastic Clip Collar\n",
            "                  Business Essentials 8\" x 8\" x 5\" Corrugated Mailers, 12-Pack\n",
            "                  6 1/4 x 6 1/4 Gatefold Invitation - Mandarin Orange (500 Qty.)\n",
            "                  Ultra Sleek And Spacious Pearl White Lacquer 18 Note Music Jewelry Box - We've Only Just Begun - NEW\n",
            "     Recommended:\n",
            "                  Mediven Sheer and Soft 15-20 mmHg Thigh w/ Lace Silicone Top Band CT Wheat II - Ankle 8-8.75 inches\n",
            "                  MightySkins Skin Decal Wrap Compatible with Apple Sticker Protective Cover 100's of Color Options\n",
            "                  3 1/2\"W x 20\"D x 20\"H Funston Craftsman Smooth Bracket, Douglas Fir\n",
            "                  MightySkins Skin Decal Wrap Compatible with DJI Sticker Protective Cover 100's of Color Options\n",
            "                  MightySkins Skin Decal Wrap Compatible with HP Sticker Protective Cover 100's of Color Options\n",
            "                  Ebe Women Reading Glasses Reader Cheaters Anti Reflective Lenses TR90 ry2209\n",
            "                  A6 Invitation Envelopes w/Peel & Press (4 3/4 x 6 1/2) - Baby Blue (1000 Qty.)\n",
            "                  Handcrafted Ercolano Music Box Featuring \"Luncheon of the Boating Party\" by Renoir, Pierre Auguste - New YorkNew York\n",
            "                  MightySkins Skin Decal Wrap Compatible with Smok Sticker Protective Cover 100's of Color Options\n",
            "                  MightySkins Skin Decal Wrap Compatible with Lenovo Sticker Protective Cover 100's of Color Options\n"
          ]
        }
      ],
      "source": [
        "get_recommendations(final_model,18287,items,user_to_product_interaction,user_to_index_mapping,product_to_feature_interaction)"
      ]
    },
    {
      "cell_type": "code",
      "execution_count": 58,
      "id": "4da6cedf",
      "metadata": {
        "colab": {
          "base_uri": "https://localhost:8080/"
        },
        "id": "4da6cedf",
        "outputId": "aa5f6def-0eee-4210-eb13-ea2bbe8217f3"
      },
      "outputs": [
        {
          "name": "stdout",
          "output_type": "stream",
          "text": [
            "User index = 1000\n",
            "User 13933\n",
            "     Known positives:\n",
            "                  MightySkins Skin Decal Wrap Compatible with DJI Sticker Protective Cover 100's of Color Options\n",
            "                  Ebe Women Reading Glasses Reader Cheaters Anti Reflective Lenses TR90 ry2209\n",
            "                  MightySkins Skin Decal Wrap Compatible with Smok Sticker Protective Cover 100's of Color Options\n",
            "                  3 1/2\"W x 20\"D x 20\"H Funston Craftsman Smooth Bracket, Douglas Fir\n",
            "                  Ebe Reading Glasses Mens Womens Blue Silver Temples Anti Glare remarkable grade ckb8147\n",
            "                  Port Authority J335 Hooded Core Soft Shell Jacket, Dress Blue Navy/ Battleship Grey, XS\n",
            "                  6 1/4 x 6 1/4 Gatefold Invitation - Mandarin Orange (500 Qty.)\n",
            "                  Awkward Styles Sugar Skull Shirts for Men Jolly Roger Skull and Crossbones Men's Tee Shirt Tops Day of Dead Tshirts Pirate Flag Shirts Skull T-shirts Dia de Los Muertos T Shirts for Men\n",
            "                  Women's Breeze Walker\n",
            "                  Ice Skates Jackson Supreme 5500 Women's Boot\n",
            "     Recommended:\n",
            "                  Mediven Sheer and Soft 15-20 mmHg Thigh w/ Lace Silicone Top Band CT Wheat II - Ankle 8-8.75 inches\n",
            "                  MightySkins Skin Decal Wrap Compatible with Apple Sticker Protective Cover 100's of Color Options\n",
            "                  3 1/2\"W x 20\"D x 20\"H Funston Craftsman Smooth Bracket, Douglas Fir\n",
            "                  MightySkins Skin Decal Wrap Compatible with DJI Sticker Protective Cover 100's of Color Options\n",
            "                  MightySkins Skin Decal Wrap Compatible with HP Sticker Protective Cover 100's of Color Options\n",
            "                  Ebe Women Reading Glasses Reader Cheaters Anti Reflective Lenses TR90 ry2209\n",
            "                  A6 Invitation Envelopes w/Peel & Press (4 3/4 x 6 1/2) - Baby Blue (1000 Qty.)\n",
            "                  Handcrafted Ercolano Music Box Featuring \"Luncheon of the Boating Party\" by Renoir, Pierre Auguste - New YorkNew York\n",
            "                  MightySkins Skin Decal Wrap Compatible with Smok Sticker Protective Cover 100's of Color Options\n",
            "                  MightySkins Skin Decal Wrap Compatible with Lenovo Sticker Protective Cover 100's of Color Options\n"
          ]
        }
      ],
      "source": [
        "get_recommendations(final_model,13933,items,user_to_product_interaction,user_to_index_mapping,product_to_feature_interaction)"
      ]
    },
    {
      "cell_type": "code",
      "execution_count": null,
      "id": "Gd4yF010Tdi6",
      "metadata": {
        "id": "Gd4yF010Tdi6"
      },
      "outputs": [],
      "source": []
    }
  ],
  "metadata": {
    "colab": {
      "collapsed_sections": [
        "fc239912",
        "ff34f6e9",
        "eb338027",
        "7c8839f4",
        "9a0b045d",
        "4ac52c8c",
        "24c99ac5",
        "32dc84b1",
        "013c3c84"
      ],
      "provenance": []
    },
    "kernelspec": {
      "display_name": "Python 3",
      "language": "python",
      "name": "python3"
    },
    "language_info": {
      "codemirror_mode": {
        "name": "ipython",
        "version": 3
      },
      "file_extension": ".py",
      "mimetype": "text/x-python",
      "name": "python",
      "nbconvert_exporter": "python",
      "pygments_lexer": "ipython3",
      "version": "3.9.18"
    }
  },
  "nbformat": 4,
  "nbformat_minor": 5
}
